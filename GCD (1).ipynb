{
 "cells": [
  {
   "cell_type": "code",
   "execution_count": 5,
   "id": "7089bcd5-8951-4cce-abcb-2f3aa7e9d30b",
   "metadata": {},
   "outputs": [
    {
     "name": "stdin",
     "output_type": "stream",
     "text": [
      "Enter the first number:  12\n",
      "Enter the second number:  82\n"
     ]
    },
    {
     "name": "stdout",
     "output_type": "stream",
     "text": [
      "The GCD of 12 and 82 is 2\n"
     ]
    }
   ],
   "source": [
    "def simple_gcd(m, n):\n",
    "    fm = []\n",
    "    fn = []\n",
    "    cf = []\n",
    "\n",
    "    for i in range(1, m + 1):\n",
    "        if m % i == 0:\n",
    "            fm.append(i)\n",
    "\n",
    "    for j in range(1, n + 1):\n",
    "        if n % j == 0:\n",
    "            fn.append(j)\n",
    "\n",
    "    for f in fm:\n",
    "        if f in fn:\n",
    "            cf.append(f)\n",
    "\n",
    "    return max(cf)\n",
    "\n",
    "m = int(input(\"Enter the first number: \"))\n",
    "n = int(input(\"Enter the second number: \"))\n",
    "\n",
    "gcd = simple_gcd(m, n)\n",
    "print(f\"The GCD of {m} and {n} is {gcd}\")"
   ]
  },
  {
   "cell_type": "code",
   "execution_count": 9,
   "id": "bf80a89e-ac8f-4b32-9c87-ab1cf87039d7",
   "metadata": {},
   "outputs": [
    {
     "name": "stdin",
     "output_type": "stream",
     "text": [
      "Enter the first number:  12\n",
      "Enter the second number:  65\n"
     ]
    },
    {
     "name": "stdout",
     "output_type": "stream",
     "text": [
      "The GCD of 12 and 65 is 1\n"
     ]
    }
   ],
   "source": [
    "def gcd(m,n):\n",
    "    cf=[]\n",
    "    for i in range(1,min(m,n)+1):\n",
    "        if (m%i)==0 and (n%i)==0:\n",
    "            cf.append(i)\n",
    "    return(cf[-1])\n",
    "m = int(input(\"Enter the first number: \"))\n",
    "n = int(input(\"Enter the second number: \"))\n",
    "gcd1=gcd(m,n)\n",
    "print(f\"The GCD of {m} and {n} is {gcd1}\")"
   ]
  },
  {
   "cell_type": "code",
   "execution_count": 13,
   "id": "8419fd53-4ab3-48e8-bbf7-875733de6632",
   "metadata": {},
   "outputs": [
    {
     "name": "stdin",
     "output_type": "stream",
     "text": [
      "Enter the first number:  12\n",
      "Enter the second number:  44\n"
     ]
    },
    {
     "name": "stdout",
     "output_type": "stream",
     "text": [
      "The GCD of 12 and 44 is 4\n"
     ]
    }
   ],
   "source": [
    "def gcd(m,n):\n",
    "    i=min(m,n)\n",
    "    while i>0:\n",
    "        if (m%i)==0 and (n%i)==0:\n",
    "            return(i)\n",
    "        else:\n",
    "            i=i-1\n",
    "m = int(input(\"Enter the first number: \"))\n",
    "n = int(input(\"Enter the second number: \"))\n",
    "gcd1=gcd(m,n)\n",
    "print(f\"The GCD of {m} and {n} is {gcd1}\")"
   ]
  },
  {
   "cell_type": "code",
   "execution_count": 17,
   "id": "1ff54ab0-5da3-499b-bb34-5cf47da72a70",
   "metadata": {},
   "outputs": [
    {
     "name": "stdin",
     "output_type": "stream",
     "text": [
      "Enter the first number:  66\n",
      "Enter the second number:  12\n"
     ]
    },
    {
     "name": "stdout",
     "output_type": "stream",
     "text": [
      "The GCD of 66 and 12 is 6\n"
     ]
    }
   ],
   "source": [
    "def gcd(a, b):\n",
    "    while b:\n",
    "        a, b = b, a % b\n",
    "    return a\n",
    "a = int(input(\"Enter the first number: \"))\n",
    "b = int(input(\"Enter the second number: \"))\n",
    "gcd1=gcd(a,b)\n",
    "print(f\"The GCD of {a} and {b} is {gcd1}\")"
   ]
  },
  {
   "cell_type": "code",
   "execution_count": 19,
   "id": "2d7eddec-39cc-403a-93fb-2764e7483f2d",
   "metadata": {},
   "outputs": [
    {
     "name": "stdin",
     "output_type": "stream",
     "text": [
      "Enter the first number:  14\n",
      "Enter the second number:  63\n"
     ]
    },
    {
     "name": "stdout",
     "output_type": "stream",
     "text": [
      "The GCD of 14 and 63 is 7\n"
     ]
    }
   ],
   "source": [
    "def gcd(m,n):\n",
    "    for i in range(1,min(m,n)+1):\n",
    "        if (m%i)==0 and (n%i)==0:\n",
    "            mrcf=i\n",
    "    return mrcf\n",
    "m = int(input(\"Enter the first number: \"))\n",
    "n = int(input(\"Enter the second number: \"))\n",
    "gcd1=gcd(m,n)\n",
    "print(f\"The GCD of {m} and {n} is {gcd1}\")"
   ]
  },
  {
   "cell_type": "code",
   "execution_count": null,
   "id": "5f9a7f79-a6c1-41d2-b1dc-c5235a2badc5",
   "metadata": {},
   "outputs": [],
   "source": [
    "case study \n",
    "code,explanation,justification-why,how"
   ]
  }
 ],
 "metadata": {
  "kernelspec": {
   "display_name": "Python 3 (ipykernel)",
   "language": "python",
   "name": "python3"
  },
  "language_info": {
   "codemirror_mode": {
    "name": "ipython",
    "version": 3
   },
   "file_extension": ".py",
   "mimetype": "text/x-python",
   "name": "python",
   "nbconvert_exporter": "python",
   "pygments_lexer": "ipython3",
   "version": "3.12.4"
  }
 },
 "nbformat": 4,
 "nbformat_minor": 5
}
