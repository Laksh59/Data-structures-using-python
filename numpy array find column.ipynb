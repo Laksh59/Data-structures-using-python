{
 "cells": [
  {
   "cell_type": "code",
   "execution_count": 1,
   "id": "408f6eb8-0075-4a92-8cd9-44729aca3310",
   "metadata": {},
   "outputs": [
    {
     "name": "stdout",
     "output_type": "stream",
     "text": [
      "column 0: [10 40 70]\n",
      "column 1: [20 50 80]\n",
      "column 2: [30 60 90]\n"
     ]
    }
   ],
   "source": [
    "import numpy as np\n",
    "x=np.array([\n",
    "    [10,20,30],\n",
    "    [40,50,60],\n",
    "    [70,80,90]])\n",
    "print(\"column 0:\",x[:,0])\n",
    "print(\"column 1:\",x[:,1])\n",
    "print(\"column 2:\",x[:,2])"
   ]
  }
 ],
 "metadata": {
  "kernelspec": {
   "display_name": "Python 3 (ipykernel)",
   "language": "python",
   "name": "python3"
  },
  "language_info": {
   "codemirror_mode": {
    "name": "ipython",
    "version": 3
   },
   "file_extension": ".py",
   "mimetype": "text/x-python",
   "name": "python",
   "nbconvert_exporter": "python",
   "pygments_lexer": "ipython3",
   "version": "3.12.4"
  }
 },
 "nbformat": 4,
 "nbformat_minor": 5
}
