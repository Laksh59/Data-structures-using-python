{
 "cells": [
  {
   "cell_type": "code",
   "execution_count": null,
   "id": "23d4399c-87b7-49f4-a2e7-ccfce52fa2c8",
   "metadata": {},
   "outputs": [],
   "source": [
    "#Count odd numbers in a set of integers.\n",
    "def count_odds():\n",
    "    n = int(input(\"Enter number of elements: \"))\n",
    "    arr = [int(input(f\"Enter element {i+1}: \")) for i in range(n)]\n",
    "    count = sum(1 for x in arr if x % 2 != 0)\n",
    "    print(f\"Count of odd numbers: {count}\")\n",
    "\n",
    "count_odds()"
   ]
  }
 ],
 "metadata": {
  "kernelspec": {
   "display_name": "Python 3 (ipykernel)",
   "language": "python",
   "name": "python3"
  },
  "language_info": {
   "codemirror_mode": {
    "name": "ipython",
    "version": 3
   },
   "file_extension": ".py",
   "mimetype": "text/x-python",
   "name": "python",
   "nbconvert_exporter": "python",
   "pygments_lexer": "ipython3",
   "version": "3.12.4"
  }
 },
 "nbformat": 4,
 "nbformat_minor": 5
}
