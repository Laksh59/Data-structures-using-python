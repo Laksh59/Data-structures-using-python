{
 "cells": [
  {
   "cell_type": "code",
   "execution_count": 1,
   "id": "1f38b653-c444-45f8-a115-0f22013e6408",
   "metadata": {},
   "outputs": [
    {
     "name": "stdout",
     "output_type": "stream",
     "text": [
      "Total Sales by Employee: [1000, 1200, 1400]\n",
      "Total Sales by Month: [450, 750, 1050, 1350]\n",
      "Total Sales of Organization: 3600\n"
     ]
    }
   ],
   "source": [
    "#1. In an organisation monthly sales figures of employees are available. Write a program to find the total sales of each employee and total sales of each month. Also find the total sales of the organization.\n",
    "def sales_summary(sales):\n",
    "   \n",
    "    total_sales_by_employee = [sum(employee_sales) for employee_sales in sales]\n",
    "    total_sales_by_month = [sum(month_sales) for month_sales in zip(*sales)]\n",
    "    total_sales_organization = sum(total_sales_by_employee)\n",
    "    \n",
    "    return total_sales_by_employee, total_sales_by_month, total_sales_organization\n",
    "sales = [\n",
    "    [100, 200, 300, 400],  \n",
    "    [150, 250, 350, 450],  \n",
    "    [200, 300, 400, 500],  \n",
    "]\n",
    "employee_totals, month_totals, org_total = sales_summary(sales)\n",
    "print(\"Total Sales by Employee:\", employee_totals)  \n",
    "print(\"Total Sales by Month:\", month_totals)     \n",
    "print(\"Total Sales of Organization:\", org_total)"
   ]
  }
 ],
 "metadata": {
  "kernelspec": {
   "display_name": "Python 3 (ipykernel)",
   "language": "python",
   "name": "python3"
  },
  "language_info": {
   "codemirror_mode": {
    "name": "ipython",
    "version": 3
   },
   "file_extension": ".py",
   "mimetype": "text/x-python",
   "name": "python",
   "nbconvert_exporter": "python",
   "pygments_lexer": "ipython3",
   "version": "3.12.4"
  }
 },
 "nbformat": 4,
 "nbformat_minor": 5
}
