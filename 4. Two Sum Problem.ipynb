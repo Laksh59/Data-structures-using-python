{
 "cells": [
  {
   "cell_type": "code",
   "execution_count": 1,
   "id": "bd0730e6-f564-40f8-a49c-d6b25f2297ac",
   "metadata": {},
   "outputs": [
    {
     "name": "stdout",
     "output_type": "stream",
     "text": [
      "[0, 1]\n"
     ]
    }
   ],
   "source": [
    "#4. Two Sum Problem\n",
    "def two_sum(arr, target):\n",
    "    num_map = {}\n",
    "    for i, num in enumerate(arr):\n",
    "        complement = target - num\n",
    "        if complement in num_map:\n",
    "            return [num_map[complement], i]\n",
    "        num_map[num] = i\n",
    "\n",
    "arr = [2, 7, 11, 15]\n",
    "target = 9\n",
    "print(two_sum(arr, target))"
   ]
  }
 ],
 "metadata": {
  "kernelspec": {
   "display_name": "Python 3 (ipykernel)",
   "language": "python",
   "name": "python3"
  },
  "language_info": {
   "codemirror_mode": {
    "name": "ipython",
    "version": 3
   },
   "file_extension": ".py",
   "mimetype": "text/x-python",
   "name": "python",
   "nbconvert_exporter": "python",
   "pygments_lexer": "ipython3",
   "version": "3.12.4"
  }
 },
 "nbformat": 4,
 "nbformat_minor": 5
}
