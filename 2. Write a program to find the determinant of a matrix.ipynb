{
 "cells": [
  {
   "cell_type": "code",
   "execution_count": 1,
   "id": "f80be794-ae4c-413f-afbc-ad537d685fe4",
   "metadata": {},
   "outputs": [
    {
     "name": "stdout",
     "output_type": "stream",
     "text": [
      "22\n"
     ]
    }
   ],
   "source": [
    "#2.Write a program to find the determinant of a matrix\n",
    "import numpy as np\n",
    "def determinant(matrix):\n",
    "    return int(np.linalg.det(matrix))\n",
    "\n",
    "matrix = [\n",
    "    [1, 2, 3],\n",
    "    [0, 4, 5],\n",
    "    [1, 0, 6]\n",
    "]\n",
    "print(determinant(matrix))"
   ]
  }
 ],
 "metadata": {
  "kernelspec": {
   "display_name": "Python 3 (ipykernel)",
   "language": "python",
   "name": "python3"
  },
  "language_info": {
   "codemirror_mode": {
    "name": "ipython",
    "version": 3
   },
   "file_extension": ".py",
   "mimetype": "text/x-python",
   "name": "python",
   "nbconvert_exporter": "python",
   "pygments_lexer": "ipython3",
   "version": "3.12.4"
  }
 },
 "nbformat": 4,
 "nbformat_minor": 5
}
