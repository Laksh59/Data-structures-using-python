{
 "cells": [
  {
   "cell_type": "code",
   "execution_count": null,
   "id": "4dfc8013-e00d-4b4d-b61a-d6b4ffd716ed",
   "metadata": {},
   "outputs": [],
   "source": [
    "#write a program that takes a list of tuples and sorts the list of tuples in increasing order by the last element in each tuple\n",
    "num=[(2,5),(1,2),(4,4),(2,3)]\n",
    "size=len(num)\n",
    "for i in range(0,size):\n",
    "    for j in range(0,size-i-1):\n",
    "        if num[j][1]>num[j+1][1]:\n",
    "            num[j],num[j+1]=num[j+1],num[j]\n",
    "print(\"After sorting:\",num)"
   ]
  }
 ],
 "metadata": {
  "kernelspec": {
   "display_name": "Python 3 (ipykernel)",
   "language": "python",
   "name": "python3"
  },
  "language_info": {
   "codemirror_mode": {
    "name": "ipython",
    "version": 3
   },
   "file_extension": ".py",
   "mimetype": "text/x-python",
   "name": "python",
   "nbconvert_exporter": "python",
   "pygments_lexer": "ipython3",
   "version": "3.12.4"
  }
 },
 "nbformat": 4,
 "nbformat_minor": 5
}
