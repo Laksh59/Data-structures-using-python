{
 "cells": [
  {
   "cell_type": "code",
   "execution_count": null,
   "id": "f76b7037-f537-49a0-99a3-36bc83ab2999",
   "metadata": {},
   "outputs": [],
   "source": [
    "#12..Write a program to find the union of two sets of numbers.\n",
    "def union_of_sets():\n",
    "    n1 = int(input(\"Enter number of elements in first set: \"))\n",
    "    set1 = {int(input(f\"Enter element {i+1} of first set: \")) for i in range(n1)}\n",
    "    \n",
    "    n2 = int(input(\"Enter number of elements in second set: \"))\n",
    "    set2 = {int(input(f\"Enter element {i+1} of second set: \")) for i in range(n2)}\n",
    "    \n",
    "    union_set = set1.union(set2)\n",
    "    print(f\"Union of sets: {union_set}\")\n",
    "\n",
    "union_of_sets()"
   ]
  }
 ],
 "metadata": {
  "kernelspec": {
   "display_name": "Python 3 (ipykernel)",
   "language": "python",
   "name": "python3"
  },
  "language_info": {
   "codemirror_mode": {
    "name": "ipython",
    "version": 3
   },
   "file_extension": ".py",
   "mimetype": "text/x-python",
   "name": "python",
   "nbconvert_exporter": "python",
   "pygments_lexer": "ipython3",
   "version": "3.12.4"
  }
 },
 "nbformat": 4,
 "nbformat_minor": 5
}
