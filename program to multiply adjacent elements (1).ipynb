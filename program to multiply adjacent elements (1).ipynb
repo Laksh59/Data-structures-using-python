{
 "cells": [
  {
   "cell_type": "code",
   "execution_count": 7,
   "id": "dafccd02-0164-4858-8681-c266321621b2",
   "metadata": {},
   "outputs": [
    {
     "name": "stdin",
     "output_type": "stream",
     "text": [
      "Enter the number of elements in the tuple:  4\n",
      "Enter 4 elements separated by space:  2 4 6 8\n"
     ]
    },
    {
     "name": "stdout",
     "output_type": "stream",
     "text": [
      "Input Tuple: (2, 4, 6, 8)\n",
      "Result: (8, 24, 48)\n"
     ]
    }
   ],
   "source": [
    "# Program to multiply the adjacent elements\n",
    "def multiply_adjacent_elements(input_tuple):\n",
    "    if len(input_tuple) < 2:\n",
    "        return ()  \n",
    "    \n",
    "    return tuple(input_tuple[i] * input_tuple[i + 1] for i in range(len(input_tuple) - 1))\n",
    "\n",
    "n = int(input(\"Enter the number of elements in the tuple: \"))\n",
    "elements = list(map(int, input(f\"Enter {n} elements separated by space: \").split()))\n",
    "\n",
    "if len(elements) != n:\n",
    "    print(\"Error: The number of elements entered does not match the specified count.\")\n",
    "else:\n",
    "    input_tuple = tuple(elements)\n",
    "    result = multiply_adjacent_elements(input_tuple)\n",
    "    print(\"Input Tuple:\", input_tuple)\n",
    "    print(\"Result:\", result)"
   ]
  },
  {
   "cell_type": "code",
   "execution_count": null,
   "id": "c9e3d75e-197f-474e-83ff-6bce33fffbdc",
   "metadata": {},
   "outputs": [],
   "source": [
    "#program to get the 4th element and 4th element from last of a tuple\n"
   ]
  }
 ],
 "metadata": {
  "kernelspec": {
   "display_name": "Python 3 (ipykernel)",
   "language": "python",
   "name": "python3"
  },
  "language_info": {
   "codemirror_mode": {
    "name": "ipython",
    "version": 3
   },
   "file_extension": ".py",
   "mimetype": "text/x-python",
   "name": "python",
   "nbconvert_exporter": "python",
   "pygments_lexer": "ipython3",
   "version": "3.12.4"
  }
 },
 "nbformat": 4,
 "nbformat_minor": 5
}
