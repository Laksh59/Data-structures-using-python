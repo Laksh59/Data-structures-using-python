{
 "cells": [
  {
   "cell_type": "code",
   "execution_count": 1,
   "id": "db449480-e7f7-49c7-949d-b071f531e054",
   "metadata": {},
   "outputs": [
    {
     "name": "stdin",
     "output_type": "stream",
     "text": [
      "Enter number of elements:  4\n",
      "Enter element 1:  2\n",
      "Enter element 2:  5\n",
      "Enter element 3:  7\n",
      "Enter element 4:  9\n"
     ]
    },
    {
     "name": "stdout",
     "output_type": "stream",
     "text": [
      "Largest odd number: 9\n"
     ]
    }
   ],
   "source": [
    "#Find the largest odd number in a set of integers.\n",
    "def largest_odd():\n",
    "    n = int(input(\"Enter number of elements: \"))\n",
    "    arr = [int(input(f\"Enter element {i+1}: \")) for i in range(n)]\n",
    "    odd_numbers = [x for x in arr if x % 2 != 0]\n",
    "    if odd_numbers:\n",
    "        print(\"Largest odd number:\", max(odd_numbers))\n",
    "    else:\n",
    "        print(\"No odd numbers found.\")\n",
    "\n",
    "largest_odd()"
   ]
  }
 ],
 "metadata": {
  "kernelspec": {
   "display_name": "Python 3 (ipykernel)",
   "language": "python",
   "name": "python3"
  },
  "language_info": {
   "codemirror_mode": {
    "name": "ipython",
    "version": 3
   },
   "file_extension": ".py",
   "mimetype": "text/x-python",
   "name": "python",
   "nbconvert_exporter": "python",
   "pygments_lexer": "ipython3",
   "version": "3.12.4"
  }
 },
 "nbformat": 4,
 "nbformat_minor": 5
}
