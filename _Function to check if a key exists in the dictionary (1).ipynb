{
 "cells": [
  {
   "cell_type": "code",
   "execution_count": 1,
   "id": "f6e1a5e2-bc1f-434a-9ff1-0eee1cd78d24",
   "metadata": {},
   "outputs": [
    {
     "name": "stdin",
     "output_type": "stream",
     "text": [
      "Enter the number of key-value pairs in the dictionary:  3\n",
      "Enter the key:  fruit\n",
      "Enter the value:  apple\n",
      "Enter the key:  1\n",
      "Enter the value:  3\n",
      "Enter the key:  2\n",
      "Enter the value:  5\n",
      "Enter the key to check:  7\n"
     ]
    },
    {
     "name": "stdout",
     "output_type": "stream",
     "text": [
      "'7' is not a key in the dictionary.\n"
     ]
    }
   ],
   "source": [
    "# Function to check if a key exists in the dictionary\n",
    "def check_key_in_dict(dictionary, key):\n",
    "    if key in dictionary:\n",
    "        return f\"'{key}' is a key in the dictionary.\"\n",
    "    else:\n",
    "        return f\"'{key}' is not a key in the dictionary.\"\n",
    "\n",
    "# Input handling for dictionary creation\n",
    "n = int(input(\"Enter the number of key-value pairs in the dictionary: \"))\n",
    "user_dict = {}\n",
    "\n",
    "for _ in range(n):\n",
    "    key = input(\"Enter the key: \")\n",
    "    value = input(\"Enter the value: \")\n",
    "    user_dict[key] = value  # Add key-value pair to the dictionary\n",
    "\n",
    "# Input handling for key check\n",
    "key_to_check = input(\"Enter the key to check: \")\n",
    "\n",
    "# Check if the key exists in the dictionary\n",
    "result = check_key_in_dict(user_dict, key_to_check)\n",
    "print(result)\n"
   ]
  }
 ],
 "metadata": {
  "kernelspec": {
   "display_name": "Python 3 (ipykernel)",
   "language": "python",
   "name": "python3"
  },
  "language_info": {
   "codemirror_mode": {
    "name": "ipython",
    "version": 3
   },
   "file_extension": ".py",
   "mimetype": "text/x-python",
   "name": "python",
   "nbconvert_exporter": "python",
   "pygments_lexer": "ipython3",
   "version": "3.12.4"
  }
 },
 "nbformat": 4,
 "nbformat_minor": 5
}
