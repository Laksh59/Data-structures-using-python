{
 "cells": [
  {
   "cell_type": "code",
   "execution_count": 1,
   "id": "6dcd998e-2575-45b5-a290-c1b6f9fbd357",
   "metadata": {},
   "outputs": [
    {
     "name": "stdin",
     "output_type": "stream",
     "text": [
      "Enter number of elements:  3\n",
      "Enter element 1:  1\n",
      "Enter element 2:  5\n",
      "Enter element 3:  6\n"
     ]
    },
    {
     "name": "stdout",
     "output_type": "stream",
     "text": [
      "Second highest element: 5\n"
     ]
    }
   ],
   "source": [
    "#7. Write a program to find the second highest element among N inputted numbers.\n",
    "def second_highest():\n",
    "    n = int(input(\"Enter number of elements: \"))\n",
    "    arr = [int(input(f\"Enter element {i+1}: \")) for i in range(n)]\n",
    "    arr = list(set(arr))  # Remove duplicates\n",
    "    arr.sort()\n",
    "    if len(arr) >= 2:\n",
    "        print(\"Second highest element:\", arr[-2])\n",
    "    else:\n",
    "        print(\"Second highest element not found.\")\n",
    "\n",
    "second_highest()"
   ]
  }
 ],
 "metadata": {
  "kernelspec": {
   "display_name": "Python 3 (ipykernel)",
   "language": "python",
   "name": "python3"
  },
  "language_info": {
   "codemirror_mode": {
    "name": "ipython",
    "version": 3
   },
   "file_extension": ".py",
   "mimetype": "text/x-python",
   "name": "python",
   "nbconvert_exporter": "python",
   "pygments_lexer": "ipython3",
   "version": "3.12.4"
  }
 },
 "nbformat": 4,
 "nbformat_minor": 5
}
