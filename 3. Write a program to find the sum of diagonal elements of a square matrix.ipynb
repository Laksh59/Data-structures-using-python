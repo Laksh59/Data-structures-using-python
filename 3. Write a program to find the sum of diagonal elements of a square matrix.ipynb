{
 "cells": [
  {
   "cell_type": "code",
   "execution_count": null,
   "id": "8de2c689-ceb6-4bdd-844a-f0242f74547b",
   "metadata": {},
   "outputs": [],
   "source": [
    "#3.3. Write a program to find the sum of diagonal elements of a square matrix\n",
    "def sum_diagonal(matrix):\n",
    "    diagonal_sum = 0\n",
    "    n = len(matrix)\n",
    "    for i in range(n):\n",
    "        diagonal_sum += matrix[i][i]  \n",
    "    return diagonal_sum\n",
    "\n",
    "matrix = [\n",
    "    [1, 2, 3],\n",
    "    [4, 5, 6],\n",
    "    [7, 8, 9]\n",
    "]\n",
    "print(sum_diagonal(matrix))"
   ]
  }
 ],
 "metadata": {
  "kernelspec": {
   "display_name": "Python 3 (ipykernel)",
   "language": "python",
   "name": "python3"
  },
  "language_info": {
   "codemirror_mode": {
    "name": "ipython",
    "version": 3
   },
   "file_extension": ".py",
   "mimetype": "text/x-python",
   "name": "python",
   "nbconvert_exporter": "python",
   "pygments_lexer": "ipython3",
   "version": "3.12.4"
  }
 },
 "nbformat": 4,
 "nbformat_minor": 5
}
