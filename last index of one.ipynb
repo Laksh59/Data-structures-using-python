{
 "cells": [
  {
   "cell_type": "code",
   "execution_count": 5,
   "id": "88f079a9-4d27-47f6-98f4-62ffe89879d6",
   "metadata": {},
   "outputs": [
    {
     "name": "stdout",
     "output_type": "stream",
     "text": [
      "output: [1, 1, 1, 1, 0, 0, 0]\n"
     ]
    }
   ],
   "source": [
    "#last index of one\n",
    "x=[0,1,0,1,1,1,0]\n",
    "def move_zero_to_end(x):\n",
    "    ones=x.count(1)\n",
    "    zeroes=x.count(0)\n",
    "    result=[1]*ones+[0]*zeroes\n",
    "    return result\n",
    "print(\"output:\",move_zero_to_end(x))"
   ]
  }
 ],
 "metadata": {
  "kernelspec": {
   "display_name": "Python 3 (ipykernel)",
   "language": "python",
   "name": "python3"
  },
  "language_info": {
   "codemirror_mode": {
    "name": "ipython",
    "version": 3
   },
   "file_extension": ".py",
   "mimetype": "text/x-python",
   "name": "python",
   "nbconvert_exporter": "python",
   "pygments_lexer": "ipython3",
   "version": "3.12.4"
  }
 },
 "nbformat": 4,
 "nbformat_minor": 5
}
