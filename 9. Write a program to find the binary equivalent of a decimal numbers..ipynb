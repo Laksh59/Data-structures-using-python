{
 "cells": [
  {
   "cell_type": "code",
   "execution_count": 5,
   "id": "96ec0cc1-5929-4a6e-9a6c-186fa74909d6",
   "metadata": {},
   "outputs": [
    {
     "name": "stdin",
     "output_type": "stream",
     "text": [
      "Enter a decimal number:  5\n"
     ]
    },
    {
     "name": "stdout",
     "output_type": "stream",
     "text": [
      "Binary equivalent: 101\n"
     ]
    }
   ],
   "source": [
    "#9. Write a program to find the binary equivalent of a decimal numbers.\n",
    "def decimal_to_binary():\n",
    "    num = int(input(\"Enter a decimal number: \"))\n",
    "    binary = bin(num)[2:]  \n",
    "    print(f\"Binary equivalent: {binary}\")\n",
    "\n",
    "decimal_to_binary()"
   ]
  }
 ],
 "metadata": {
  "kernelspec": {
   "display_name": "Python 3 (ipykernel)",
   "language": "python",
   "name": "python3"
  },
  "language_info": {
   "codemirror_mode": {
    "name": "ipython",
    "version": 3
   },
   "file_extension": ".py",
   "mimetype": "text/x-python",
   "name": "python",
   "nbconvert_exporter": "python",
   "pygments_lexer": "ipython3",
   "version": "3.12.4"
  }
 },
 "nbformat": 4,
 "nbformat_minor": 5
}
