{
 "cells": [
  {
   "cell_type": "code",
   "execution_count": 1,
   "id": "a5c5bf7f-cbf0-4406-b0f0-d146c335eefe",
   "metadata": {},
   "outputs": [
    {
     "name": "stdout",
     "output_type": "stream",
     "text": [
      "6\n"
     ]
    }
   ],
   "source": [
    "#7. Trapping Rain Water\n",
    "def trap_rain_water(arr):\n",
    "    n = len(arr)\n",
    "    if n == 0:\n",
    "        return 0\n",
    "\n",
    "    left_max = [0] * n\n",
    "    right_max = [0] * n\n",
    "    water_trapped = 0\n",
    "\n",
    "    left_max[0] = arr[0]\n",
    "    for i in range(1, n):\n",
    "        left_max[i] = max(left_max[i - 1], arr[i])\n",
    "\n",
    "    right_max[n - 1] = arr[n - 1]\n",
    "    for i in range(n - 2, -1, -1):\n",
    "        right_max[i] = max(right_max[i + 1], arr[i])\n",
    "\n",
    "    for i in range(n):\n",
    "        water_trapped += max(0, min(left_max[i], right_max[i]) - arr[i])\n",
    "\n",
    "    return water_trapped\n",
    "\n",
    "arr = [0, 1, 0, 2, 1, 0, 1, 3, 2, 1, 2, 1]\n",
    "print(trap_rain_water(arr))"
   ]
  }
 ],
 "metadata": {
  "kernelspec": {
   "display_name": "Python 3 (ipykernel)",
   "language": "python",
   "name": "python3"
  },
  "language_info": {
   "codemirror_mode": {
    "name": "ipython",
    "version": 3
   },
   "file_extension": ".py",
   "mimetype": "text/x-python",
   "name": "python",
   "nbconvert_exporter": "python",
   "pygments_lexer": "ipython3",
   "version": "3.12.4"
  }
 },
 "nbformat": 4,
 "nbformat_minor": 5
}
