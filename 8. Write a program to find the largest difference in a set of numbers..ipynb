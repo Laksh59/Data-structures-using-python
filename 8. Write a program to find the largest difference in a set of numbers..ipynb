{
 "cells": [
  {
   "cell_type": "code",
   "execution_count": 1,
   "id": "f9581d7e-6ca6-4595-9389-eadde86a4b75",
   "metadata": {},
   "outputs": [
    {
     "name": "stdin",
     "output_type": "stream",
     "text": [
      "Enter number of elements:  4\n",
      "Enter element 1:  2\n",
      "Enter element 2:  4\n",
      "Enter element 3:  6\n",
      "Enter element 4:  8\n"
     ]
    },
    {
     "name": "stdout",
     "output_type": "stream",
     "text": [
      "Largest difference: 6\n"
     ]
    }
   ],
   "source": [
    "#8. Write a program to find the largest difference in a set of numbers.\n",
    "def largest_difference():\n",
    "    n = int(input(\"Enter number of elements: \"))\n",
    "    arr = [int(input(f\"Enter element {i+1}: \")) for i in range(n)]\n",
    "    max_diff = max(arr) - min(arr)\n",
    "    print(f\"Largest difference: {max_diff}\")\n",
    "\n",
    "largest_difference()"
   ]
  }
 ],
 "metadata": {
  "kernelspec": {
   "display_name": "Python 3 (ipykernel)",
   "language": "python",
   "name": "python3"
  },
  "language_info": {
   "codemirror_mode": {
    "name": "ipython",
    "version": 3
   },
   "file_extension": ".py",
   "mimetype": "text/x-python",
   "name": "python",
   "nbconvert_exporter": "python",
   "pygments_lexer": "ipython3",
   "version": "3.12.4"
  }
 },
 "nbformat": 4,
 "nbformat_minor": 5
}
