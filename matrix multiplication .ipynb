{
 "cells": [
  {
   "cell_type": "code",
   "execution_count": 1,
   "id": "05e417e6-db58-4032-8d43-689cb408d722",
   "metadata": {},
   "outputs": [
    {
     "name": "stdout",
     "output_type": "stream",
     "text": [
      "[[10, 180, 90], [160, 250, 360], [490, 640, 810]]\n"
     ]
    }
   ],
   "source": [
    "import numpy as np\n",
    "\n",
    "arr1 = np.array([\n",
    "    [1,9,3],[4,5,6],[7,8,9]])\n",
    "\n",
    "arr2 = np.array([\n",
    "    [10,20,30],[40,50,60],[70,80,90]])\n",
    "\n",
    "result=[]\n",
    "\n",
    "for i in range(len(arr1)):#9\n",
    "    row =[]\n",
    "\n",
    "    for j in range(len(arr1[0])):#3\n",
    "\n",
    "        row.append(arr1[i,j]*arr2[i,j]) #arr[0,3]\n",
    "    result.append(row)\n",
    "print(result)"
   ]
  }
 ],
 "metadata": {
  "kernelspec": {
   "display_name": "Python 3 (ipykernel)",
   "language": "python",
   "name": "python3"
  },
  "language_info": {
   "codemirror_mode": {
    "name": "ipython",
    "version": 3
   },
   "file_extension": ".py",
   "mimetype": "text/x-python",
   "name": "python",
   "nbconvert_exporter": "python",
   "pygments_lexer": "ipython3",
   "version": "3.12.4"
  }
 },
 "nbformat": 4,
 "nbformat_minor": 5
}
