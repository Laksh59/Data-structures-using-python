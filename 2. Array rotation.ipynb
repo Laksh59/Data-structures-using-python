{
 "cells": [
  {
   "cell_type": "code",
   "execution_count": 3,
   "id": "204e47d3-8794-430c-8755-eea8d53206c4",
   "metadata": {},
   "outputs": [
    {
     "name": "stdout",
     "output_type": "stream",
     "text": [
      "[4, 5, 1, 2, 3]\n"
     ]
    }
   ],
   "source": [
    "#2. Array rotation\n",
    "def rotate_array(arr, k):\n",
    "    k = k % len(arr) \n",
    "    return arr[-k:] + arr[:-k]\n",
    "\n",
    "arr = [1, 2, 3, 4, 5]\n",
    "print(rotate_array(arr, 2))"
   ]
  }
 ],
 "metadata": {
  "kernelspec": {
   "display_name": "Python 3 (ipykernel)",
   "language": "python",
   "name": "python3"
  },
  "language_info": {
   "codemirror_mode": {
    "name": "ipython",
    "version": 3
   },
   "file_extension": ".py",
   "mimetype": "text/x-python",
   "name": "python",
   "nbconvert_exporter": "python",
   "pygments_lexer": "ipython3",
   "version": "3.12.4"
  }
 },
 "nbformat": 4,
 "nbformat_minor": 5
}
